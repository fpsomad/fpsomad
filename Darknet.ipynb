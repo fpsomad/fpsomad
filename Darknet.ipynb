{
  "nbformat": 4,
  "nbformat_minor": 0,
  "metadata": {
    "colab": {
      "provenance": [],
      "authorship_tag": "ABX9TyMIFAF0FHbyafpT0ZN7pedv",
      "include_colab_link": true
    },
    "kernelspec": {
      "name": "python3",
      "display_name": "Python 3"
    },
    "language_info": {
      "name": "python"
    }
  },
  "cells": [
    {
      "cell_type": "markdown",
      "metadata": {
        "id": "view-in-github",
        "colab_type": "text"
      },
      "source": [
        "<a href=\"https://colab.research.google.com/github/fpsomad/fpsomad/blob/main/Darknet.ipynb\" target=\"_parent\"><img src=\"https://colab.research.google.com/assets/colab-badge.svg\" alt=\"Open In Colab\"/></a>"
      ]
    },
    {
      "cell_type": "code",
      "execution_count": 1,
      "metadata": {
        "id": "0RoQ1fzW3CM5"
      },
      "outputs": [],
      "source": [
        "# εισαγωγή βιβλιοθηκών\n",
        "import pandas as pd\n",
        "import numpy as np\n",
        "import seaborn as sns\n",
        "import matplotlib.pyplot as plt\n"
      ]
    },
    {
      "cell_type": "code",
      "source": [
        "# εισαγωγή συνόλου δεδομένων\n",
        "data = pd.read_csv('https://raw.githubusercontent.com/kdemertzis/EKPA/main/Data/DarkNet.csv')\n",
        "data.info()\n",
        "\n"
      ],
      "metadata": {
        "colab": {
          "base_uri": "https://localhost:8080/"
        },
        "id": "uxwCkxOs3mKg",
        "outputId": "3659e988-0cc1-4622-a175-e9e8510ce06b"
      },
      "execution_count": 2,
      "outputs": [
        {
          "output_type": "stream",
          "name": "stderr",
          "text": [
            "<ipython-input-2-4e88a7a3b017>:2: DtypeWarning: Columns (18) have mixed types. Specify dtype option on import or set low_memory=False.\n",
            "  data = pd.read_csv('https://raw.githubusercontent.com/kdemertzis/EKPA/main/Data/DarkNet.csv')\n"
          ]
        },
        {
          "output_type": "stream",
          "name": "stdout",
          "text": [
            "<class 'pandas.core.frame.DataFrame'>\n",
            "RangeIndex: 68580 entries, 0 to 68579\n",
            "Data columns (total 83 columns):\n",
            " #   Column                      Non-Null Count  Dtype  \n",
            "---  ------                      --------------  -----  \n",
            " 0   Src_IP                      68580 non-null  object \n",
            " 1   Src_Port                    68580 non-null  int64  \n",
            " 2   Dst_IP                      68580 non-null  object \n",
            " 3   Dst_Port                    68580 non-null  int64  \n",
            " 4   Protocol                    68580 non-null  int64  \n",
            " 5   Flow_Duration               68580 non-null  int64  \n",
            " 6   Total_Fwd_Packet            68580 non-null  int64  \n",
            " 7   Total_Bwd_packets           68580 non-null  int64  \n",
            " 8   Total_Length_of_Fwd_Packet  68580 non-null  int64  \n",
            " 9   Total_Length_of_Bwd_Packet  68580 non-null  int64  \n",
            " 10  Fwd_Packet_Length_Max       68580 non-null  int64  \n",
            " 11  Fwd_Packet_Length_Min       68580 non-null  int64  \n",
            " 12  Fwd_Packet_Length_Mean      68580 non-null  float64\n",
            " 13  Fwd_Packet_Length_Std       68580 non-null  float64\n",
            " 14  Bwd_Packet_Length_Max       68580 non-null  int64  \n",
            " 15  Bwd_Packet_Length_Min       68580 non-null  int64  \n",
            " 16  Bwd_Packet_Length_Mean      68580 non-null  float64\n",
            " 17  Bwd_Packet_Length_Std       68580 non-null  float64\n",
            " 18  Flow_Bytes/s                68580 non-null  object \n",
            " 19  Flow_Packets/s              68580 non-null  float64\n",
            " 20  Flow_IAT_Mean               68580 non-null  float64\n",
            " 21  Flow_IAT_Std                68580 non-null  float64\n",
            " 22  Flow_IAT_Max                68580 non-null  int64  \n",
            " 23  Flow_IAT_Min                68580 non-null  int64  \n",
            " 24  Fwd_IAT_Total               68580 non-null  int64  \n",
            " 25  Fwd_IAT_Mean                68580 non-null  float64\n",
            " 26  Fwd_IAT_Std                 68580 non-null  float64\n",
            " 27  Fwd_IAT_Max                 68580 non-null  int64  \n",
            " 28  Fwd_IAT_Min                 68580 non-null  int64  \n",
            " 29  Bwd_IAT_Total               68580 non-null  int64  \n",
            " 30  Bwd_IAT_Mean                68580 non-null  float64\n",
            " 31  Bwd_IAT_Std                 68580 non-null  float64\n",
            " 32  Bwd_IAT_Max                 68580 non-null  int64  \n",
            " 33  Bwd_IAT_Min                 68580 non-null  int64  \n",
            " 34  Fwd_PSH_Flags               68580 non-null  int64  \n",
            " 35  Bwd_PSH_Flags               68580 non-null  int64  \n",
            " 36  Fwd_URG_Flags               68580 non-null  int64  \n",
            " 37  Bwd_URG_Flags               68580 non-null  int64  \n",
            " 38  Fwd_Header_Length           68580 non-null  int64  \n",
            " 39  Bwd_Header_Length           68580 non-null  int64  \n",
            " 40  Fwd_Packets/s               68580 non-null  float64\n",
            " 41  Bwd_Packets/s               68580 non-null  float64\n",
            " 42  Packet_Length_Min           68580 non-null  int64  \n",
            " 43  Packet_Length_Max           68580 non-null  int64  \n",
            " 44  Packet_Length_Mean          68580 non-null  float64\n",
            " 45  Packet_Length_Std           68580 non-null  float64\n",
            " 46  Packet_Length_Variance      68580 non-null  float64\n",
            " 47  FIN_Flag_Count              68580 non-null  int64  \n",
            " 48  SYN_Flag_Count              68580 non-null  int64  \n",
            " 49  RST_Flag_Count              68580 non-null  int64  \n",
            " 50  PSH_Flag_Count              68580 non-null  int64  \n",
            " 51  ACK_Flag_Count              68580 non-null  int64  \n",
            " 52  URG_Flag_Count              68580 non-null  int64  \n",
            " 53  CWE_Flag_Count              68580 non-null  int64  \n",
            " 54  ECE_Flag_Count              68580 non-null  int64  \n",
            " 55  Down/Up_Ratio               68580 non-null  int64  \n",
            " 56  Average_Packet_Size         68580 non-null  float64\n",
            " 57  Fwd_Segment_Size_Avg        68580 non-null  float64\n",
            " 58  Bwd_Segment_Size_Avg        68580 non-null  float64\n",
            " 59  Fwd_Bytes/Bulk_Avg          68580 non-null  int64  \n",
            " 60  Fwd_Packet/Bulk_Avg         68580 non-null  int64  \n",
            " 61  Fwd_Bulk_Rate_Avg           68580 non-null  int64  \n",
            " 62  Bwd_Bytes/Bulk_Avg          68580 non-null  int64  \n",
            " 63  Bwd_Packet/Bulk_Avg         68580 non-null  int64  \n",
            " 64  Bwd_Bulk_Rate_Avg           68580 non-null  int64  \n",
            " 65  Subflow_Fwd_Packets         68580 non-null  int64  \n",
            " 66  Subflow_Fwd_Bytes           68580 non-null  int64  \n",
            " 67  Subflow_Bwd_Packets         68580 non-null  int64  \n",
            " 68  Subflow_Bwd_Bytes           68580 non-null  int64  \n",
            " 69  FWD_Init_Win_Bytes          68580 non-null  int64  \n",
            " 70  Bwd_Init_Win_Bytes          68580 non-null  int64  \n",
            " 71  Fwd_Act_Data_Pkts           68580 non-null  int64  \n",
            " 72  Fwd_Seg_Size_Min            68580 non-null  int64  \n",
            " 73  Active_Mean                 68580 non-null  int64  \n",
            " 74  Active_Std                  68580 non-null  int64  \n",
            " 75  Active_Max                  68580 non-null  int64  \n",
            " 76  Active_Min                  68580 non-null  int64  \n",
            " 77  Idle_Mean                   68580 non-null  int64  \n",
            " 78  Idle_Std                    68580 non-null  float64\n",
            " 79  Idle_Max                    68580 non-null  int64  \n",
            " 80  Idle_Min                    68580 non-null  int64  \n",
            " 81  Label-1                     68580 non-null  object \n",
            " 82  Label-2                     68580 non-null  object \n",
            "dtypes: float64(20), int64(58), object(5)\n",
            "memory usage: 43.4+ MB\n"
          ]
        }
      ]
    },
    {
      "cell_type": "code",
      "source": [
        "# ενοποίηση ονομασιών υπηρεσιών DarkNet\n",
        "data['Label-2'] = data['Label-2'].replace(['AUDIO-STREAMING', 'Video-streaming', 'File-transfer'], ['Audio-Streaming', 'Video-Streaming','File-Transfer'])\n",
        "data['Label-2'].unique()\n",
        "data.groupby(data['Label-2']).size()"
      ],
      "metadata": {
        "id": "QanGmW7m2crk",
        "outputId": "528bc9d0-54f9-4e09-c31b-fa41ff7d53e5",
        "colab": {
          "base_uri": "https://localhost:8080/"
        }
      },
      "execution_count": 4,
      "outputs": [
        {
          "output_type": "execute_result",
          "data": {
            "text/plain": [
              "Label-2\n",
              "Audio-Streaming     7539\n",
              "Browsing            5192\n",
              "Chat               11478\n",
              "Email               6145\n",
              "File-Transfer      11182\n",
              "P2P                13711\n",
              "VOIP                3566\n",
              "Video-Streaming     9767\n",
              "dtype: int64"
            ]
          },
          "metadata": {},
          "execution_count": 4
        }
      ]
    },
    {
      "cell_type": "code",
      "source": [
        "# ορισμός κλάσης για ταξινόμηση κίνησης \"Class: 0 (normal)  1 (DarkNet)\"\n"
      ],
      "metadata": {
        "id": "2WCnm9JJ30Ll"
      },
      "execution_count": null,
      "outputs": []
    },
    {
      "cell_type": "code",
      "source": [
        "# ταξινόμηση δεδομένων με βάση την κίνηση\n",
        "data.groupby(data['Label-1']).size()\n"
      ],
      "metadata": {
        "colab": {
          "base_uri": "https://localhost:8080/"
        },
        "id": "Vq1WxNWeF7_r",
        "outputId": "ae6f36ec-71c8-4beb-c5e5-ed2360542755"
      },
      "execution_count": null,
      "outputs": [
        {
          "output_type": "execute_result",
          "data": {
            "text/plain": [
              "Label-1\n",
              "Non-Tor    30931\n",
              "NonVPN     22740\n",
              "Tor         1392\n",
              "VPN        13517\n",
              "dtype: int64"
            ]
          },
          "metadata": {},
          "execution_count": 20
        }
      ]
    },
    {
      "cell_type": "code",
      "source": [
        "# ταξινόμηση δεδομένων με βάση την εφαρμογή\n",
        "data.groupby(data['Label-2']).size()\n"
      ],
      "metadata": {
        "colab": {
          "base_uri": "https://localhost:8080/"
        },
        "id": "MV1CykLcMYrT",
        "outputId": "13a35752-3532-483c-ba76-d1812a12e2c9"
      },
      "execution_count": null,
      "outputs": [
        {
          "output_type": "execute_result",
          "data": {
            "text/plain": [
              "Label-2\n",
              "AUDIO-STREAMING     1484\n",
              "Audio-Streaming     6055\n",
              "Browsing            5192\n",
              "Chat               11478\n",
              "Email               6145\n",
              "File-Transfer      11098\n",
              "File-transfer         84\n",
              "P2P                13711\n",
              "VOIP                3566\n",
              "Video-Streaming     9486\n",
              "Video-streaming      281\n",
              "dtype: int64"
            ]
          },
          "metadata": {},
          "execution_count": 21
        }
      ]
    }
  ]
}