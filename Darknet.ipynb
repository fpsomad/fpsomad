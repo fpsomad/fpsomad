{
  "nbformat": 4,
  "nbformat_minor": 0,
  "metadata": {
    "colab": {
      "provenance": [],
      "authorship_tag": "ABX9TyNd5XiYYLVdAqC30MzCfCFW",
      "include_colab_link": true
    },
    "kernelspec": {
      "name": "python3",
      "display_name": "Python 3"
    },
    "language_info": {
      "name": "python"
    }
  },
  "cells": [
    {
      "cell_type": "markdown",
      "metadata": {
        "id": "view-in-github",
        "colab_type": "text"
      },
      "source": [
        "<a href=\"https://colab.research.google.com/github/fpsomad/fpsomad/blob/main/Darknet.ipynb\" target=\"_parent\"><img src=\"https://colab.research.google.com/assets/colab-badge.svg\" alt=\"Open In Colab\"/></a>"
      ]
    },
    {
      "cell_type": "code",
      "execution_count": 18,
      "metadata": {
        "id": "0RoQ1fzW3CM5"
      },
      "outputs": [],
      "source": [
        "# εισαγωγή βιβλιοθηκών\n",
        "import pandas as pd\n",
        "import numpy as np\n",
        "import seaborn as sns\n",
        "import matplotlib.pyplot as plt\n"
      ]
    },
    {
      "cell_type": "code",
      "source": [
        "# εισαγωγή συνόλου δεδομένων\n",
        "data = pd.read_csv('https://raw.githubusercontent.com/kdemertzis/EKPA/main/Data/DarkNet.csv')\n",
        "\n"
      ],
      "metadata": {
        "colab": {
          "base_uri": "https://localhost:8080/"
        },
        "id": "uxwCkxOs3mKg",
        "outputId": "edb6bf65-4e83-4f64-f028-d237e9d5b19f"
      },
      "execution_count": 19,
      "outputs": [
        {
          "output_type": "stream",
          "name": "stderr",
          "text": [
            "<ipython-input-19-12fa18687824>:2: DtypeWarning: Columns (18) have mixed types. Specify dtype option on import or set low_memory=False.\n",
            "  data = pd.read_csv('https://raw.githubusercontent.com/kdemertzis/EKPA/main/Data/DarkNet.csv')\n"
          ]
        }
      ]
    },
    {
      "cell_type": "code",
      "source": [
        "# ταξινόμηση δεδομένων με βάση την κίνηση\n",
        "data.groupby(data['Label-1']).size()\n"
      ],
      "metadata": {
        "colab": {
          "base_uri": "https://localhost:8080/"
        },
        "id": "Vq1WxNWeF7_r",
        "outputId": "ae6f36ec-71c8-4beb-c5e5-ed2360542755"
      },
      "execution_count": 20,
      "outputs": [
        {
          "output_type": "execute_result",
          "data": {
            "text/plain": [
              "Label-1\n",
              "Non-Tor    30931\n",
              "NonVPN     22740\n",
              "Tor         1392\n",
              "VPN        13517\n",
              "dtype: int64"
            ]
          },
          "metadata": {},
          "execution_count": 20
        }
      ]
    },
    {
      "cell_type": "code",
      "source": [
        "# ταξινόμηση δεδομένων με βάση την εφαρμογή\n",
        "data.groupby(data['Label-2']).size()\n"
      ],
      "metadata": {
        "colab": {
          "base_uri": "https://localhost:8080/"
        },
        "id": "MV1CykLcMYrT",
        "outputId": "13a35752-3532-483c-ba76-d1812a12e2c9"
      },
      "execution_count": 21,
      "outputs": [
        {
          "output_type": "execute_result",
          "data": {
            "text/plain": [
              "Label-2\n",
              "AUDIO-STREAMING     1484\n",
              "Audio-Streaming     6055\n",
              "Browsing            5192\n",
              "Chat               11478\n",
              "Email               6145\n",
              "File-Transfer      11098\n",
              "File-transfer         84\n",
              "P2P                13711\n",
              "VOIP                3566\n",
              "Video-Streaming     9486\n",
              "Video-streaming      281\n",
              "dtype: int64"
            ]
          },
          "metadata": {},
          "execution_count": 21
        }
      ]
    }
  ]
}